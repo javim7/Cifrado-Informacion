{
 "cells": [
  {
   "cell_type": "markdown",
   "metadata": {},
   "source": [
    "# Ejercicio Stream Cipher\n",
    "### Javier Mombiela\n",
    "### Carnte: 20067\n",
    "\n",
    "#### 1.1 DES"
   ]
  },
  {
   "cell_type": "code",
   "execution_count": 25,
   "metadata": {},
   "outputs": [
    {
     "name": "stdout",
     "output_type": "stream",
     "text": [
      "Plain text: Hello, this is some sensitive information!\n",
      "Key: 12e1a09d49041171\n",
      "\n",
      "Encrypted text: 85f9b2f161b520744f572c8f483532f30e75ce43f8a8d8cb46a1a544c60a301e4a6cf1f78bba30d6dbc1353b345adff5\n",
      "Decrypted Text: Hello, this is some sensitive information!\n"
     ]
    }
   ],
   "source": [
    "from cifrados.des import *\n",
    "\n",
    "plainText = \"Hello, this is some sensitive information!\"\n",
    "ogDES(plainText)"
   ]
  },
  {
   "cell_type": "markdown",
   "metadata": {},
   "source": [
    "#### 1.2 3DES"
   ]
  },
  {
   "cell_type": "code",
   "execution_count": 26,
   "metadata": {},
   "outputs": [
    {
     "name": "stdout",
     "output_type": "stream",
     "text": [
      "Plain text: Hello, this is some sensitive information!\n",
      "\n",
      "Key 1: 544013f16f91a423\n",
      "Key 2: a45a470919de15c3\n",
      "Key 3: 1dfb6ca18c6b788b\n",
      "\n",
      "Encrypted text: 4f16f8c517ec7ebea5d8ca7b0425d99a08fce56271c04a0f04f4c0cbec2da41b8d84425244009e0dc4cf78de1265631cdbdd7b875bae325721b5eff38364df87\n",
      "Decrypted text: Hello, this is some sensitive information!\n"
     ]
    }
   ],
   "source": [
    "tripDES(plainText)"
   ]
  },
  {
   "cell_type": "markdown",
   "metadata": {},
   "source": [
    "#### 2. AES"
   ]
  },
  {
   "cell_type": "code",
   "execution_count": 27,
   "metadata": {},
   "outputs": [
    {
     "name": "stdout",
     "output_type": "stream",
     "text": [
      "Plain text: Hola, este es un mensaje secreto!\n",
      "Key: 80c2493396e5198fcba40f39bce6f623\n",
      "\n",
      "Encrypted text: 901fbe3a3a7464197bf26976d29762ad9f1c91b81ea4a6a2a3239df4ff23d2236410b06607cd80824bbe228b376564d5\n",
      "Decrypted text: Hola, este es un mensaje secreto!\n"
     ]
    }
   ],
   "source": [
    "from cifrados.aes import *\n",
    "\n",
    "plainText = \"Hola, este es un mensaje secreto!\"\n",
    "ogAES(plainText)"
   ]
  },
  {
   "cell_type": "markdown",
   "metadata": {},
   "source": [
    "#### 3 Aplicar CBC y ECB a imagenes"
   ]
  },
  {
   "cell_type": "code",
   "execution_count": 28,
   "metadata": {},
   "outputs": [],
   "source": [
    "from cifrados.block import *\n",
    "\n",
    "logo = './images/Logo-UVG.webp'\n",
    "foto = './images/foto1.jpeg'\n",
    "tux = './images/tux.ppm'"
   ]
  },
  {
   "cell_type": "markdown",
   "metadata": {},
   "source": [
    "Logo"
   ]
  },
  {
   "cell_type": "code",
   "execution_count": 29,
   "metadata": {},
   "outputs": [],
   "source": [
    "key = get_random_bytes(16)\n",
    "\n",
    "encryptImageECB(key, tux, './images/encryptedLogoE.png')\n",
    "encryptImageCBC(key, tux, './images/encryptedLogoC.png')"
   ]
  }
 ],
 "metadata": {
  "kernelspec": {
   "display_name": "Python 3",
   "language": "python",
   "name": "python3"
  },
  "language_info": {
   "codemirror_mode": {
    "name": "ipython",
    "version": 3
   },
   "file_extension": ".py",
   "mimetype": "text/x-python",
   "name": "python",
   "nbconvert_exporter": "python",
   "pygments_lexer": "ipython3",
   "version": "3.12.1"
  }
 },
 "nbformat": 4,
 "nbformat_minor": 2
}
