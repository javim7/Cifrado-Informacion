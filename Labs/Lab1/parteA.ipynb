{
 "cells": [
  {
   "cell_type": "code",
   "execution_count": 1,
   "metadata": {},
   "outputs": [],
   "source": [
    "# Importando Archivos\n",
    "from Cifrados.Afin import *\n",
    "from Cifrados.Caesar import *\n",
    "from Cifrados.Vigenere import *\n",
    "from Cifrados.Frecuencias import *"
   ]
  },
  {
   "cell_type": "markdown",
   "metadata": {},
   "source": [
    "# Laboratorio 1 Parte A\n",
    "## Javier Mombiela\n",
    "## 20067"
   ]
  },
  {
   "cell_type": "markdown",
   "metadata": {},
   "source": [
    "### Cifrado Caesar"
   ]
  },
  {
   "cell_type": "code",
   "execution_count": 2,
   "metadata": {},
   "outputs": [
    {
     "name": "stdout",
     "output_type": "stream",
     "text": [
      "Texto: ATACAR AL AMANECER\n",
      "Texto cifrado: DWDFDU DÑ DODPHFHU\n",
      "Texto descifrado: ATACAR AL AMANECER\n",
      "{'D': 37.5, 'F': 12.5, 'H': 12.5, 'U': 12.5, 'Ñ': 6.25, 'O': 6.25, 'P': 6.25, 'W': 6.25, 'A': 0.0, 'B': 0.0, 'C': 0.0, 'E': 0.0, 'G': 0.0, 'I': 0.0, 'J': 0.0, 'K': 0.0, 'L': 0.0, 'M': 0.0, 'N': 0.0, 'Q': 0.0, 'R': 0.0, 'S': 0.0, 'T': 0.0, 'V': 0.0, 'X': 0.0, 'Y': 0.0, 'Z': 0.0}\n"
     ]
    }
   ],
   "source": [
    "texto = \"ATACAR AL AMANECER\"\n",
    "clave = 3\n",
    "caesar = Caesar()\n",
    "print(\"Texto: \" + texto)\n",
    "cypherText = caesar.encrypt(texto, clave)\n",
    "print(\"Texto cifrado: \" + cypherText)\n",
    "plainText = caesar.decrypt(cypherText, clave)\n",
    "print(\"Texto descifrado: \" + plainText)\n",
    "frecuenciasCaesar = Frecuencias()\n",
    "frecuenciasExp = frecuenciasCaesar.obtenerFrecuencias(cypherText)\n",
    "frecuenciasExpSort, frecuenciasTeoSort = frecuenciasCaesar.ordenarFrecuencias(frecuenciasExp)\n",
    "print(frecuenciasExpSort)"
   ]
  },
  {
   "cell_type": "markdown",
   "metadata": {},
   "source": [
    "### Cifrado Afin"
   ]
  },
  {
   "cell_type": "code",
   "execution_count": 3,
   "metadata": {},
   "outputs": [
    {
     "name": "stdout",
     "output_type": "stream",
     "text": [
      "Texto: ATACAR AL AMANECER\n",
      "Texto cifrado: IAIRIQ IJ IÑISBRBQ\n",
      "Texto descifrado: ATACAR AL AMANECER\n",
      "{'I': 37.5, 'B': 12.5, 'Q': 12.5, 'R': 12.5, 'A': 6.25, 'J': 6.25, 'Ñ': 6.25, 'S': 6.25, 'C': 0.0, 'D': 0.0, 'E': 0.0, 'F': 0.0, 'G': 0.0, 'H': 0.0, 'K': 0.0, 'L': 0.0, 'M': 0.0, 'N': 0.0, 'O': 0.0, 'P': 0.0, 'T': 0.0, 'U': 0.0, 'V': 0.0, 'W': 0.0, 'X': 0.0, 'Y': 0.0, 'Z': 0.0}\n"
     ]
    }
   ],
   "source": [
    "texto = \"ATACAR AL AMANECER\"\n",
    "a = 5\n",
    "b = 8\n",
    "afin = Afin()\n",
    "print(\"Texto: \" + texto)\n",
    "cypherText = afin.encrypt(texto, a, b)\n",
    "print(\"Texto cifrado: \" + cypherText)\n",
    "plainText = afin.decrypt(cypherText, a, b)\n",
    "print(\"Texto descifrado: \" + plainText)\n",
    "frecuenciasAfin = Frecuencias()\n",
    "frecuenciasExp = frecuenciasAfin.obtenerFrecuencias(cypherText)\n",
    "frecuenciasExpSort, frecuenciasTeoSort = frecuenciasAfin.ordenarFrecuencias(frecuenciasExp)\n",
    "print(frecuenciasExpSort)"
   ]
  },
  {
   "cell_type": "markdown",
   "metadata": {},
   "source": [
    "### Cifrado Vigenere"
   ]
  },
  {
   "cell_type": "code",
   "execution_count": 4,
   "metadata": {},
   "outputs": [
    {
     "name": "stdout",
     "output_type": "stream",
     "text": [
      "Texto: ATACAR AL AMANECER\n",
      "Texto cifrado: CEAXET LL VPCXEXIT\n",
      "Texto descifrado: ATACAR AL AMANECER\n",
      "{'E': 18.75, 'X': 18.75, 'C': 12.5, 'L': 12.5, 'T': 12.5, 'A': 6.25, 'I': 6.25, 'P': 6.25, 'V': 6.25, 'B': 0.0, 'D': 0.0, 'F': 0.0, 'G': 0.0, 'H': 0.0, 'J': 0.0, 'K': 0.0, 'M': 0.0, 'N': 0.0, 'Ñ': 0.0, 'O': 0.0, 'Q': 0.0, 'R': 0.0, 'S': 0.0, 'U': 0.0, 'W': 0.0, 'Y': 0.0, 'Z': 0.0}\n"
     ]
    }
   ],
   "source": [
    "texto = \"ATACAR AL AMANECER\"\n",
    "llave = \"CLAVE\"\n",
    "vigenere = Vigenere()\n",
    "print(\"Texto: \" + texto)\n",
    "cypherText = vigenere.encrypt(texto, llave)\n",
    "print(\"Texto cifrado: \" + cypherText)\n",
    "plainText = vigenere.decrypt(cypherText, llave)\n",
    "print(\"Texto descifrado: \" + plainText)\n",
    "frecuenciasVigenere = Frecuencias()\n",
    "frecuenciasExp = frecuenciasVigenere.obtenerFrecuencias(cypherText)\n",
    "frecuenciasExpSort, frecuenciasTeoSort = frecuenciasVigenere.ordenarFrecuencias(frecuenciasExp)\n",
    "print(frecuenciasExpSort)"
   ]
  }
 ],
 "metadata": {
  "kernelspec": {
   "display_name": "Python 3",
   "language": "python",
   "name": "python3"
  },
  "language_info": {
   "codemirror_mode": {
    "name": "ipython",
    "version": 3
   },
   "file_extension": ".py",
   "mimetype": "text/x-python",
   "name": "python",
   "nbconvert_exporter": "python",
   "pygments_lexer": "ipython3",
   "version": "3.12.1"
  }
 },
 "nbformat": 4,
 "nbformat_minor": 2
}
