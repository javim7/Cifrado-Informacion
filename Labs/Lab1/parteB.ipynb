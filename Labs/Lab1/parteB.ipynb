{
 "cells": [
  {
   "cell_type": "markdown",
   "metadata": {},
   "source": [
    "# Laboratorio 1 Parte B\n",
    "## Javier Mombiela 20067"
   ]
  },
  {
   "cell_type": "code",
   "execution_count": 9,
   "metadata": {},
   "outputs": [],
   "source": [
    "# Importando archivos\n",
    "import pandas as pd\n",
    "from Cifrados.Afin import *\n",
    "from Cifrados.Caesar import *\n",
    "from Cifrados.Vigenere import *\n",
    "from Cifrados.Frecuencias import *"
   ]
  },
  {
   "cell_type": "markdown",
   "metadata": {},
   "source": [
    "### Caesar Fuerza Bruta"
   ]
  },
  {
   "cell_type": "code",
   "execution_count": 10,
   "metadata": {},
   "outputs": [
    {
     "name": "stdout",
     "output_type": "stream",
     "text": [
      "Resultados escritos en: './Textos/caesar.txt'.\n",
      "Resultados escritos en: './Textos/caesar2.txt'.\n"
     ]
    }
   ],
   "source": [
    "with open('./Textos/cipher1.txt', 'r') as file:\n",
    "        textoCaesar = file.read()\n",
    "    \n",
    "caesar = Caesar()\n",
    "frecuenciasCaesar = Frecuencias()\n",
    "frecuenciasExp = frecuenciasCaesar.obtenerFrecuencias(textoCaesar)\n",
    "frecuenciasExpSort, frecuenciasTeoSort = frecuenciasCaesar.ordenarFrecuencias(frecuenciasExp)\n",
    "\n",
    "output_file_path = './Textos/caesar.txt'\n",
    "output_file_path2 = './Textos/caesar2.txt'\n",
    "caesar.fuerzaBruta(textoCaesar, frecuenciasTeoSort, frecuenciasExpSort, output_file_path)\n",
    "frecuenciasCaesar.compararFrecuencias(output_file_path, output_file_path2)"
   ]
  },
  {
   "cell_type": "code",
   "execution_count": 11,
   "metadata": {},
   "outputs": [
    {
     "name": "stderr",
     "output_type": "stream",
     "text": [
      "C:\\Users\\rjmom\\AppData\\Local\\Temp\\ipykernel_26920\\1388844710.py:1: ParserWarning: Falling back to the 'python' engine because the 'c' engine does not support regex separators (separators > 1 char and different from '\\s+' are interpreted as regex); you can avoid this warning by specifying engine='python'.\n",
      "  df = pd.read_csv(output_file_path2, sep=' : ', header=None, names=['Number', 'Text'], encoding='latin1')\n"
     ]
    },
    {
     "data": {
      "text/html": [
       "<div>\n",
       "<style scoped>\n",
       "    .dataframe tbody tr th:only-of-type {\n",
       "        vertical-align: middle;\n",
       "    }\n",
       "\n",
       "    .dataframe tbody tr th {\n",
       "        vertical-align: top;\n",
       "    }\n",
       "\n",
       "    .dataframe thead th {\n",
       "        text-align: right;\n",
       "    }\n",
       "</style>\n",
       "<table border=\"1\" class=\"dataframe\">\n",
       "  <thead>\n",
       "    <tr style=\"text-align: right;\">\n",
       "      <th></th>\n",
       "      <th>Number</th>\n",
       "      <th>Text</th>\n",
       "    </tr>\n",
       "  </thead>\n",
       "  <tbody>\n",
       "    <tr>\n",
       "      <th>0</th>\n",
       "      <td>(19)</td>\n",
       "      <td>ELANALISISPORFRECUENCIASPARADESCIFRARCRIPTOGRA...</td>\n",
       "    </tr>\n",
       "    <tr>\n",
       "      <th>1</th>\n",
       "      <td>(8)</td>\n",
       "      <td>OVLXLVSDSDAZCPCONFOXNSLDALCLÑODNSPCLCNCSAEZQCL...</td>\n",
       "    </tr>\n",
       "    <tr>\n",
       "      <th>2</th>\n",
       "      <td>(3)</td>\n",
       "      <td>TAPCPAXIXIFEHUHTRKTCRXPIFPHPSTIRXUHPHRHXFJEVHP...</td>\n",
       "    </tr>\n",
       "    <tr>\n",
       "      <th>3</th>\n",
       "      <td>(4)</td>\n",
       "      <td>SZOBOZWHWHEDGTGSQJSBQWOHEOGORSHQWTGOGQGWEIDUGO...</td>\n",
       "    </tr>\n",
       "    <tr>\n",
       "      <th>4</th>\n",
       "      <td>(15)</td>\n",
       "      <td>IOEQEOMWMWTSVJVIGYIQGMEWTEVEHIWGMJVEVGVMTXSKVE...</td>\n",
       "    </tr>\n",
       "  </tbody>\n",
       "</table>\n",
       "</div>"
      ],
      "text/plain": [
       "  Number                                               Text\n",
       "0   (19)  ELANALISISPORFRECUENCIASPARADESCIFRARCRIPTOGRA...\n",
       "1    (8)  OVLXLVSDSDAZCPCONFOXNSLDALCLÑODNSPCLCNCSAEZQCL...\n",
       "2    (3)  TAPCPAXIXIFEHUHTRKTCRXPIFPHPSTIRXUHPHRHXFJEVHP...\n",
       "3    (4)  SZOBOZWHWHEDGTGSQJSBQWOHEOGORSHQWTGOGQGWEIDUGO...\n",
       "4   (15)  IOEQEOMWMWTSVJVIGYIQGMEWTEVEHIWGMJVEVGVMTXSKVE..."
      ]
     },
     "execution_count": 11,
     "metadata": {},
     "output_type": "execute_result"
    }
   ],
   "source": [
    "df = pd.read_csv(output_file_path2, sep=' : ', header=None, names=['Number', 'Text'], encoding='latin1')\n",
    "df.head()"
   ]
  },
  {
   "cell_type": "markdown",
   "metadata": {},
   "source": [
    "### Afin Fuerza Bruta"
   ]
  },
  {
   "cell_type": "code",
   "execution_count": 12,
   "metadata": {},
   "outputs": [
    {
     "name": "stdout",
     "output_type": "stream",
     "text": [
      "Resultados escritos en: './Textos/afin.txt'.\n",
      "Resultados escritos en: './Textos/afin2.txt'.\n"
     ]
    }
   ],
   "source": [
    "with open('./Textos/cipher2.txt', 'r') as file:\n",
    "        textoAfin = file.read()\n",
    "\n",
    "afin = Afin()\n",
    "frecuenciasAfin = Frecuencias()\n",
    "frecuenciasExp = frecuenciasAfin.obtenerFrecuencias(textoAfin)\n",
    "frecuenciasExpSort, frecuenciasTeoSort = frecuenciasAfin.ordenarFrecuencias(frecuenciasExp)\n",
    "\n",
    "output_file_path = './Textos/afin.txt'\n",
    "output_file_path2 = './Textos/afin2.txt'\n",
    "afin.fuerzaBruta(textoAfin, frecuenciasTeoSort, frecuenciasExpSort, output_file_path)\n",
    "frecuenciasAfin.compararFrecuencias(output_file_path, output_file_path2)"
   ]
  },
  {
   "cell_type": "code",
   "execution_count": 13,
   "metadata": {},
   "outputs": [
    {
     "name": "stderr",
     "output_type": "stream",
     "text": [
      "C:\\Users\\rjmom\\AppData\\Local\\Temp\\ipykernel_26920\\1388844710.py:1: ParserWarning: Falling back to the 'python' engine because the 'c' engine does not support regex separators (separators > 1 char and different from '\\s+' are interpreted as regex); you can avoid this warning by specifying engine='python'.\n",
      "  df = pd.read_csv(output_file_path2, sep=' : ', header=None, names=['Number', 'Text'], encoding='latin1')\n"
     ]
    },
    {
     "data": {
      "text/html": [
       "<div>\n",
       "<style scoped>\n",
       "    .dataframe tbody tr th:only-of-type {\n",
       "        vertical-align: middle;\n",
       "    }\n",
       "\n",
       "    .dataframe tbody tr th {\n",
       "        vertical-align: top;\n",
       "    }\n",
       "\n",
       "    .dataframe thead th {\n",
       "        text-align: right;\n",
       "    }\n",
       "</style>\n",
       "<table border=\"1\" class=\"dataframe\">\n",
       "  <thead>\n",
       "    <tr style=\"text-align: right;\">\n",
       "      <th></th>\n",
       "      <th>Number</th>\n",
       "      <th>Text</th>\n",
       "    </tr>\n",
       "  </thead>\n",
       "  <tbody>\n",
       "    <tr>\n",
       "      <th>0</th>\n",
       "      <td>((23, 7))</td>\n",
       "      <td>LAMADRUGADADEESTEJUEVESQUINCEDEJULIOATERRIZOEN...</td>\n",
       "    </tr>\n",
       "    <tr>\n",
       "      <th>1</th>\n",
       "      <td>(( 4,12))</td>\n",
       "      <td>ISHSPBYNSPSPOOAZOKYOXOACYLGQOPOKYILESZOBBLTEOG...</td>\n",
       "    </tr>\n",
       "    <tr>\n",
       "      <th>2</th>\n",
       "      <td>(( 4,18))</td>\n",
       "      <td>TESEBNKYEBEBAAMLAVKAJAMÑKWRCABAVKTWPELANNWFPAR...</td>\n",
       "    </tr>\n",
       "    <tr>\n",
       "      <th>3</th>\n",
       "      <td>((11, 9))</td>\n",
       "      <td>NQTQLICFQLQLRROVRZCRJROBCSAERLRZCNSÑQVRIISKÑRA...</td>\n",
       "    </tr>\n",
       "    <tr>\n",
       "      <th>4</th>\n",
       "      <td>((15,20))</td>\n",
       "      <td>DNHNYEPKNYNYCCIMCVPCTCIAPRLUCYCVPDRSNMCEERJSCL...</td>\n",
       "    </tr>\n",
       "  </tbody>\n",
       "</table>\n",
       "</div>"
      ],
      "text/plain": [
       "      Number                                               Text\n",
       "0  ((23, 7))  LAMADRUGADADEESTEJUEVESQUINCEDEJULIOATERRIZOEN...\n",
       "1  (( 4,12))  ISHSPBYNSPSPOOAZOKYOXOACYLGQOPOKYILESZOBBLTEOG...\n",
       "2  (( 4,18))  TESEBNKYEBEBAAMLAVKAJAMÑKWRCABAVKTWPELANNWFPAR...\n",
       "3  ((11, 9))  NQTQLICFQLQLRROVRZCRJROBCSAERLRZCNSÑQVRIISKÑRA...\n",
       "4  ((15,20))  DNHNYEPKNYNYCCIMCVPCTCIAPRLUCYCVPDRSNMCEERJSCL..."
      ]
     },
     "execution_count": 13,
     "metadata": {},
     "output_type": "execute_result"
    }
   ],
   "source": [
    "df = pd.read_csv(output_file_path2, sep=' : ', header=None, names=['Number', 'Text'], encoding='latin1')\n",
    "df.head()"
   ]
  },
  {
   "cell_type": "markdown",
   "metadata": {},
   "source": [
    "### Vigenere Fuerza Bruta"
   ]
  },
  {
   "cell_type": "code",
   "execution_count": 14,
   "metadata": {},
   "outputs": [
    {
     "name": "stderr",
     "output_type": "stream",
     "text": [
      "Progreso: 100%|██████████| 729/729 [00:00<00:00, 846.66it/s]\n"
     ]
    },
    {
     "name": "stdout",
     "output_type": "stream",
     "text": [
      "Resultados escritos en: './Textos/vigenere.txt'.\n",
      "Resultados escritos en: './Textos/vigenere2.txt'.\n"
     ]
    }
   ],
   "source": [
    "with open('./Textos/cipher3.txt', 'r') as file:\n",
    "        textoVigenere = file.read()\n",
    "    \n",
    "vigenere = Vigenere()\n",
    "frecuenciasVigenere = Frecuencias()\n",
    "longitud = vigenere.obtenerLongitud(textoVigenere)\n",
    "\n",
    "output_file_path = './Textos/vigenere.txt'\n",
    "output_file_path2 = './Textos/vigenere2.txt'\n",
    "vigenere.fuerzaBruta2(textoVigenere, longitud, output_file_path)\n",
    "frecuenciasVigenere.compararFrecuencias(output_file_path, output_file_path2)"
   ]
  },
  {
   "cell_type": "code",
   "execution_count": 15,
   "metadata": {},
   "outputs": [
    {
     "name": "stderr",
     "output_type": "stream",
     "text": [
      "C:\\Users\\rjmom\\AppData\\Local\\Temp\\ipykernel_26920\\1388844710.py:1: ParserWarning: Falling back to the 'python' engine because the 'c' engine does not support regex separators (separators > 1 char and different from '\\s+' are interpreted as regex); you can avoid this warning by specifying engine='python'.\n",
      "  df = pd.read_csv(output_file_path2, sep=' : ', header=None, names=['Number', 'Text'], encoding='latin1')\n"
     ]
    },
    {
     "data": {
      "text/html": [
       "<div>\n",
       "<style scoped>\n",
       "    .dataframe tbody tr th:only-of-type {\n",
       "        vertical-align: middle;\n",
       "    }\n",
       "\n",
       "    .dataframe tbody tr th {\n",
       "        vertical-align: top;\n",
       "    }\n",
       "\n",
       "    .dataframe thead th {\n",
       "        text-align: right;\n",
       "    }\n",
       "</style>\n",
       "<table border=\"1\" class=\"dataframe\">\n",
       "  <thead>\n",
       "    <tr style=\"text-align: right;\">\n",
       "      <th></th>\n",
       "      <th>Number</th>\n",
       "      <th>Text</th>\n",
       "    </tr>\n",
       "  </thead>\n",
       "  <tbody>\n",
       "    <tr>\n",
       "      <th>0</th>\n",
       "      <td>((BEEE))</td>\n",
       "      <td>CUABDOFGAYBORTOZOMEORRAÑOLAHESIBTIOEERDWDOAQEP...</td>\n",
       "    </tr>\n",
       "    <tr>\n",
       "      <th>1</th>\n",
       "      <td>((BEES))</td>\n",
       "      <td>CUANDOFRAYBARTOLOMEARRAZOLASESINTIOPERDIDOACEP...</td>\n",
       "    </tr>\n",
       "    <tr>\n",
       "      <th>2</th>\n",
       "      <td>((BESE))</td>\n",
       "      <td>CUMBDOQGAYNORTAZOMPORRMÑOLMHESTBTIAEEROWDOMQEP...</td>\n",
       "    </tr>\n",
       "    <tr>\n",
       "      <th>3</th>\n",
       "      <td>((BEEI))</td>\n",
       "      <td>CUAXDOFCAYBLRTOVOMELRRAKOLADESIXTIOAERDSDOANEP...</td>\n",
       "    </tr>\n",
       "    <tr>\n",
       "      <th>4</th>\n",
       "      <td>((BESS))</td>\n",
       "      <td>CUMNDOQRAYNARTALOMPARRMZOLMSESTNTIAPEROIDOMCEP...</td>\n",
       "    </tr>\n",
       "  </tbody>\n",
       "</table>\n",
       "</div>"
      ],
      "text/plain": [
       "     Number                                               Text\n",
       "0  ((BEEE))  CUABDOFGAYBORTOZOMEORRAÑOLAHESIBTIOEERDWDOAQEP...\n",
       "1  ((BEES))  CUANDOFRAYBARTOLOMEARRAZOLASESINTIOPERDIDOACEP...\n",
       "2  ((BESE))  CUMBDOQGAYNORTAZOMPORRMÑOLMHESTBTIAEEROWDOMQEP...\n",
       "3  ((BEEI))  CUAXDOFCAYBLRTOVOMELRRAKOLADESIXTIOAERDSDOANEP...\n",
       "4  ((BESS))  CUMNDOQRAYNARTALOMPARRMZOLMSESTNTIAPEROIDOMCEP..."
      ]
     },
     "execution_count": 15,
     "metadata": {},
     "output_type": "execute_result"
    }
   ],
   "source": [
    "df = pd.read_csv(output_file_path2, sep=' : ', header=None, names=['Number', 'Text'], encoding='latin1')\n",
    "df.head()"
   ]
  }
 ],
 "metadata": {
  "kernelspec": {
   "display_name": "Python 3",
   "language": "python",
   "name": "python3"
  },
  "language_info": {
   "codemirror_mode": {
    "name": "ipython",
    "version": 3
   },
   "file_extension": ".py",
   "mimetype": "text/x-python",
   "name": "python",
   "nbconvert_exporter": "python",
   "pygments_lexer": "ipython3",
   "version": "3.12.1"
  }
 },
 "nbformat": 4,
 "nbformat_minor": 2
}
