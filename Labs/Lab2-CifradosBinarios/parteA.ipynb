{
 "cells": [
  {
   "cell_type": "markdown",
   "metadata": {},
   "source": [
    "# Lab 2 – Base 64 y XOR\n",
    "## Parte A: Incisos 1-4\n",
    "### Javier Mombiela\n",
    "### Carnet: 20067"
   ]
  },
  {
   "cell_type": "markdown",
   "metadata": {},
   "source": [
    "#"
   ]
  },
  {
   "cell_type": "markdown",
   "metadata": {},
   "source": [
    "#### BITS A TEXTO Y VICE-VERSA"
   ]
  },
  {
   "cell_type": "code",
   "execution_count": 25,
   "metadata": {},
   "outputs": [],
   "source": [
    "from asciiToBinary import *"
   ]
  },
  {
   "cell_type": "markdown",
   "metadata": {},
   "source": [
    "Convertir texto a bits"
   ]
  },
  {
   "cell_type": "code",
   "execution_count": 26,
   "metadata": {},
   "outputs": [
    {
     "name": "stdout",
     "output_type": "stream",
     "text": [
      "\n",
      "Bytes resultantes: 01001000 01101111 01101100 01100001 00100000 01001101 01110101 01101110 01100100 01101111 \n",
      "Bytes resultantes: 01000001 01100100 01101001 01101111 01110011 \n"
     ]
    }
   ],
   "source": [
    "texto1 = \"Hola Mundo\"\n",
    "ejemplo1 = asciiToBinary(texto1)\n",
    "print(f\"\\nBytes resultantes: {ejemplo1}\")\n",
    "\n",
    "texto2 = \"Adios\"\n",
    "ejemplo2 = asciiToBinary(texto2)\n",
    "print(f\"Bytes resultantes: {ejemplo2}\")"
   ]
  },
  {
   "cell_type": "markdown",
   "metadata": {},
   "source": [
    "Coonvertir bits a texto"
   ]
  },
  {
   "cell_type": "code",
   "execution_count": 27,
   "metadata": {},
   "outputs": [
    {
     "name": "stdout",
     "output_type": "stream",
     "text": [
      "\n",
      "Texto resultante: luna\n",
      "Texto resultante: oceano\n"
     ]
    }
   ],
   "source": [
    "bit1 = '01101100 01110101 01101110 01100001'\n",
    "ejemplo1 = binaryToAscii(bit1)\n",
    "print(f\"\\nTexto resultante: {ejemplo1}\")\n",
    "\n",
    "bit2 = '01101111 01100011 01100101 01100001 01101110 01101111'\n",
    "ejemplo2 = binaryToAscii(bit2)\n",
    "print(f\"Texto resultante: {ejemplo2}\")"
   ]
  },
  {
   "cell_type": "markdown",
   "metadata": {},
   "source": [
    "#### BASE64 A TEXTO Y VICE-VERSA"
   ]
  },
  {
   "cell_type": "code",
   "execution_count": 28,
   "metadata": {},
   "outputs": [],
   "source": [
    "from asciiToBase64 import *"
   ]
  },
  {
   "cell_type": "markdown",
   "metadata": {},
   "source": [
    "Convertir texto a base64"
   ]
  },
  {
   "cell_type": "code",
   "execution_count": 29,
   "metadata": {},
   "outputs": [
    {
     "name": "stdout",
     "output_type": "stream",
     "text": [
      "\n",
      "Base64 resultante: YXRBY0Fy\n",
      "Base64 resultante: ZGVGZW5EZXI\n"
     ]
    }
   ],
   "source": [
    "texto1 = \"atAcAr\"\n",
    "ejemplo1 = asciiToBase64(texto1)\n",
    "print(f\"\\nBase64 resultante: {ejemplo1}\")\n",
    "\n",
    "texto2 = \"deFenDer\"\n",
    "ejemplo2 = asciiToBase64(texto2)\n",
    "print(f\"Base64 resultante: {ejemplo2}\")"
   ]
  },
  {
   "cell_type": "markdown",
   "metadata": {},
   "source": [
    "Convertir base64 a texto"
   ]
  },
  {
   "cell_type": "code",
   "execution_count": 30,
   "metadata": {},
   "outputs": [
    {
     "name": "stdout",
     "output_type": "stream",
     "text": [
      "\n",
      "Texto resultante: derecha\u0000\n",
      "Texto resultante: armas\u0000\n"
     ]
    }
   ],
   "source": [
    "base641 = \"ZGVyZWNoYQ\"\n",
    "ejemplo1 = base64ToAscii(base641)\n",
    "print(f\"\\nTexto resultante: {ejemplo1}\")\n",
    "\n",
    "base642 = \"YXJtYXM\"\n",
    "ejemplo2 = base64ToAscii(base642)\n",
    "print(f\"Texto resultante: {ejemplo2}\")"
   ]
  }
 ],
 "metadata": {
  "kernelspec": {
   "display_name": "Python 3",
   "language": "python",
   "name": "python3"
  },
  "language_info": {
   "codemirror_mode": {
    "name": "ipython",
    "version": 3
   },
   "file_extension": ".py",
   "mimetype": "text/x-python",
   "name": "python",
   "nbconvert_exporter": "python",
   "pygments_lexer": "ipython3",
   "version": "3.12.1"
  }
 },
 "nbformat": 4,
 "nbformat_minor": 2
}
