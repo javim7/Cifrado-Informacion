{
 "cells": [
  {
   "cell_type": "markdown",
   "metadata": {},
   "source": [
    "# Lab 2 – Base 64 y XOR\n",
    "## Parte B: Incisos 5-8\n",
    "### Jose Hernandez 20053\n",
    "### Javier Mombiela 20067\n",
    "\n",
    "#### Funcion con XOR"
   ]
  },
  {
   "cell_type": "code",
   "execution_count": 4,
   "metadata": {},
   "outputs": [],
   "source": [
    "from asciiToXOR import *"
   ]
  },
  {
   "cell_type": "markdown",
   "metadata": {},
   "source": [
    "Conversion de texto a binario con XOR"
   ]
  },
  {
   "cell_type": "code",
   "execution_count": 5,
   "metadata": {},
   "outputs": [
    {
     "name": "stdout",
     "output_type": "stream",
     "text": [
      "01101000\n",
      "01101111\n",
      "01101100\n",
      "01100001\n",
      "01100001\n",
      "01100100\n",
      "01101001\n",
      "01101111\n",
      "Bytes resultantes: 00001001000010110000010100001110\n",
      "01100001\n",
      "01100100\n",
      "01101001\n",
      "01101111\n",
      "01110011\n",
      "01101000\n",
      "01101111\n",
      "01101100\n",
      "01100001\n",
      "01101000\n",
      "Bytes resultantes: 0000100100001011000001010000111000011011\n"
     ]
    }
   ],
   "source": [
    "texto1 = \"hola\"\n",
    "llave1 = \"adio\"\n",
    "ejemplo1 = asciiToXOR(texto1, llave1)\n",
    "print(f\"Bytes resultantes: {ejemplo1}\")\n",
    "\n",
    "texto2 = \"adios\"\n",
    "llave2 = \"hola\"\n",
    "ejemplo2 = asciiToXOR(texto2, llave2)\n",
    "print(f\"Bytes resultantes: {ejemplo2}\")"
   ]
  },
  {
   "cell_type": "markdown",
   "metadata": {},
   "source": [
    "Converison de bytes a texto con XOR"
   ]
  },
  {
   "cell_type": "code",
   "execution_count": 6,
   "metadata": {},
   "outputs": [
    {
     "name": "stdout",
     "output_type": "stream",
     "text": [
      "00110001\n",
      "00110010\n",
      "00110011\n",
      "00110100\n",
      "Texto resultante: juan\n",
      "01100001\n",
      "01101100\n",
      "01100110\n",
      "01100001\n",
      "01100001\n",
      "Texto resultante: enero\n"
     ]
    }
   ],
   "source": [
    "bits1 = \"01011011010001110101001001011010\"\n",
    "llave1 = \"1234\"\n",
    "ejemplo1 = xOrToAscii(bits1, llave1)\n",
    "print(f\"Texto resultante: {ejemplo1}\")\n",
    "\n",
    "bits2 = \"0000010000000010000000110001001100001110\"\n",
    "llave2 = \"alfa\"\n",
    "ejemplo2 = xOrToAscii(bits2, llave2)\n",
    "print(f\"Texto resultante: {ejemplo2}\")"
   ]
  }
 ],
 "metadata": {
  "kernelspec": {
   "display_name": "Python 3",
   "language": "python",
   "name": "python3"
  },
  "language_info": {
   "codemirror_mode": {
    "name": "ipython",
    "version": 3
   },
   "file_extension": ".py",
   "mimetype": "text/x-python",
   "name": "python",
   "nbconvert_exporter": "python",
   "pygments_lexer": "ipython3",
   "version": "3.12.1"
  }
 },
 "nbformat": 4,
 "nbformat_minor": 2
}
