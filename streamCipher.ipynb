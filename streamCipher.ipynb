{
 "cells": [
  {
   "cell_type": "markdown",
   "metadata": {},
   "source": [
    "# Ejercicio Stream Cipher\n",
    "### Javier Mombiela\n",
    "### Carnte: 20067"
   ]
  },
  {
   "cell_type": "code",
   "execution_count": 1,
   "metadata": {},
   "outputs": [],
   "source": [
    "from utils import *"
   ]
  },
  {
   "cell_type": "markdown",
   "metadata": {},
   "source": [
    "#### Texto Plano y Clave Generada"
   ]
  },
  {
   "cell_type": "code",
   "execution_count": 2,
   "metadata": {},
   "outputs": [
    {
     "name": "stdout",
     "output_type": "stream",
     "text": [
      "Message : HELLO\n",
      "Key     : QK\"zr\n"
     ]
    }
   ],
   "source": [
    "plainText = 'HELLO'\n",
    "key = keyStreamGenerator(len(plainText))\n",
    "\n",
    "print('Message :', plainText)\n",
    "print('Key     :', key)"
   ]
  },
  {
   "cell_type": "markdown",
   "metadata": {},
   "source": [
    "#### Cifrado "
   ]
  },
  {
   "cell_type": "code",
   "execution_count": 3,
   "metadata": {},
   "outputs": [
    {
     "name": "stdout",
     "output_type": "stream",
     "text": [
      "Binary text   : 0100100001000101010011000100110001001111\n",
      "Binary key    : 0101000101001011001000100111101001110010\n",
      "Cipher        : 0001100100001110011011100011011000111101\n"
     ]
    }
   ],
   "source": [
    "cipherText, binaryKey = encrypt(plainText, key)\n",
    "print('Cipher        :', cipherText)"
   ]
  },
  {
   "cell_type": "markdown",
   "metadata": {},
   "source": [
    "#### Descifrado"
   ]
  },
  {
   "cell_type": "code",
   "execution_count": 4,
   "metadata": {},
   "outputs": [
    {
     "name": "stdout",
     "output_type": "stream",
     "text": [
      "Decrypted Text: HELLO\n"
     ]
    }
   ],
   "source": [
    "decryptedText = decrypt(cipherText, binaryKey)\n",
    "print('Decrypted Text:', decryptedText)"
   ]
  },
  {
   "cell_type": "markdown",
   "metadata": {},
   "source": [
    "#### Preguntas\n",
    "\n",
    "**1. ¿Cómo cambia el mensaje cifrado cuando cambias la clave?**\n",
    "    \n",
    "Cuando se cambia la clave de un stream cipher, el mensaje cifrado cambiara completamente, aunque solo se cambie un solo bit de la clave. Esto es debido a que un solo cambio en la clave, cambiaria la secuencia de bits generada a la hora de realizar la operacion xOr.\n",
    "\n",
    "**2. ¿Qué sucede si utilizas el mismo Keystream para cifrar dos mensajes diferentes?**\n",
    "\n",
    "La reutilización del mismo keystream para cifrar dos mensajes diferentes compromete seriamente la seguridad del cifrado, ya que podría permitir a un atacante descifrar los mensajes que se han cifrado con dicho keystream.\n",
    "\n",
    "**3. ¿Cómo afecta la longitud del Keystream a la seguridad del cifrado?**\n",
    "\n",
    "La longitud del Keystream es un factor importante para la seguridad del cifrado de flujo. Un Keystream más largo es más seguro, ya que proporciona una mayor aleatoriedad y dificulta los ataques estadísticos y de fuerza bruta. Un Keystream corto podría permitir a un atacante realizar un ataque de fuerza bruta para descifrar el texto cifrado, ya que hay menos combinaciones posibles de Keystream para probar."
   ]
  }
 ],
 "metadata": {
  "kernelspec": {
   "display_name": "Python 3",
   "language": "python",
   "name": "python3"
  },
  "language_info": {
   "codemirror_mode": {
    "name": "ipython",
    "version": 3
   },
   "file_extension": ".py",
   "mimetype": "text/x-python",
   "name": "python",
   "nbconvert_exporter": "python",
   "pygments_lexer": "ipython3",
   "version": "3.9.18"
  }
 },
 "nbformat": 4,
 "nbformat_minor": 2
}
