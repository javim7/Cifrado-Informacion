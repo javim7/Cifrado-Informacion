{
 "cells": [
  {
   "cell_type": "markdown",
   "metadata": {},
   "source": [
    "# Ejercicio Stream Cipher\n",
    "### Javier Mombiela\n",
    "### Carnte: 20067"
   ]
  },
  {
   "cell_type": "code",
   "execution_count": null,
   "metadata": {},
   "outputs": [],
   "source": [
    "from utils import *"
   ]
  },
  {
   "cell_type": "markdown",
   "metadata": {},
   "source": [
    "#### Texto Plano y Clave Generada"
   ]
  },
  {
   "cell_type": "code",
   "execution_count": null,
   "metadata": {},
   "outputs": [],
   "source": [
    "plainText = 'HELLO'\n",
    "key = keyStreamGenerator(len(plainText))\n",
    "\n",
    "print('Message :', plainText)\n",
    "print('Key     :', key)"
   ]
  },
  {
   "cell_type": "markdown",
   "metadata": {},
   "source": [
    "#### Cifrado "
   ]
  },
  {
   "cell_type": "code",
   "execution_count": null,
   "metadata": {},
   "outputs": [],
   "source": [
    "cipherText, binaryKey = encrypt(plainText, key)\n",
    "print('Cipher  :', cipherText)"
   ]
  },
  {
   "cell_type": "markdown",
   "metadata": {},
   "source": [
    "#### Descifrado"
   ]
  },
  {
   "cell_type": "code",
   "execution_count": null,
   "metadata": {},
   "outputs": [],
   "source": [
    "decryptedText = decrypt(cipherText, binaryKey)\n",
    "print('Decrypted:', decryptedText)"
   ]
  },
  {
   "cell_type": "markdown",
   "metadata": {},
   "source": [
    "#### Preguntas\n",
    "\n",
    "**1. ¿Cómo cambia el mensaje cifrado cuando cambias la clave?**\n",
    "    - Cuando se cambia la clave de un stream cipher, el mensaje cifrado cambiara completamente, aunque solo se cambie un solo bit de la clave. Esto es debido a que un solo cambio en la clave, cambiaria la secuencia de bits generada a la hora de realizar la operacion xOr.\n",
    "\n",
    "**2. ¿Qué sucede si utilizas el mismo Keystream para cifrar dos mensajes diferentes?**\n",
    "    - La reutilización del mismo keystream para cifrar dos mensajes diferentes compromete seriamente la seguridad del cifrado, ya que podría permitir a un atacante descifrar los mensajes que se han cifrado con dicho keystream.\n",
    "\n",
    "**3. ¿Cómo afecta la longitud del Keystream a la seguridad del cifrado?**\n",
    "    - La longitud del Keystream es un factor importante para la seguridad del cifrado de flujo. Un Keystream más largo es más seguro, ya que proporciona una mayor aleatoriedad y dificulta los ataques estadísticos y de fuerza bruta. Un Keystream corto podría permitir a un atacante realizar un ataque de fuerza bruta para descifrar el texto cifrado, ya que hay menos combinaciones posibles de Keystream para probar."
   ]
  }
 ],
 "metadata": {
  "language_info": {
   "name": "python"
  }
 },
 "nbformat": 4,
 "nbformat_minor": 2
}
