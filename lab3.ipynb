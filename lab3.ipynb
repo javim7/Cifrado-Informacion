{
 "cells": [
  {
   "cell_type": "markdown",
   "metadata": {},
   "source": [
    "# Lab 3 – Cifrados Simétricos\n",
    "### Javier Mombiela\n",
    "### Carnet: 20067\n",
    "\n",
    "#### Problema 1"
   ]
  },
  {
   "cell_type": "code",
   "execution_count": 1,
   "metadata": {},
   "outputs": [],
   "source": [
    "from cifrados.block2 import *\n",
    "import matplotlib.pyplot as plt"
   ]
  },
  {
   "cell_type": "code",
   "execution_count": 2,
   "metadata": {},
   "outputs": [],
   "source": [
    "# Funcion para mostrar imagenes\n",
    "def show_image(image_path):\n",
    "    try:\n",
    "        img = Image.open(image_path)\n",
    "\n",
    "        plt.imshow(img)\n",
    "        plt.axis('off') \n",
    "        plt.show()\n",
    "    except Exception as e:\n",
    "        print(f\"Hubo un error al desplegar la imagen: {e}\")"
   ]
  },
  {
   "cell_type": "markdown",
   "metadata": {},
   "source": [
    "Mr. Increible"
   ]
  },
  {
   "cell_type": "code",
   "execution_count": 8,
   "metadata": {},
   "outputs": [
    {
     "name": "stdout",
     "output_type": "stream",
     "text": [
      "b'406845db899854cc23484d6f3f28f3f7'\n"
     ]
    },
    {
     "ename": "ValueError",
     "evalue": "Data must be aligned to block boundary in ECB mode",
     "output_type": "error",
     "traceback": [
      "\u001b[1;31m---------------------------------------------------------------------------\u001b[0m",
      "\u001b[1;31mValueError\u001b[0m                                Traceback (most recent call last)",
      "Cell \u001b[1;32mIn[8], line 7\u001b[0m\n\u001b[0;32m      4\u001b[0m increibleImg \u001b[38;5;241m=\u001b[39m \u001b[38;5;124m'\u001b[39m\u001b[38;5;124m./images/mr-increible_encrypted_image.jpeg\u001b[39m\u001b[38;5;124m'\u001b[39m\n\u001b[0;32m      5\u001b[0m increible_decrypted \u001b[38;5;241m=\u001b[39m \u001b[38;5;124m'\u001b[39m\u001b[38;5;124m./images/mr-increible_decrypted_image.jpeg\u001b[39m\u001b[38;5;124m'\u001b[39m\n\u001b[1;32m----> 7\u001b[0m \u001b[43mecb_decrypt\u001b[49m\u001b[43m(\u001b[49m\u001b[43mincreibleImg\u001b[49m\u001b[43m,\u001b[49m\u001b[43m \u001b[49m\u001b[43mincreible_decrypted\u001b[49m\u001b[43m,\u001b[49m\u001b[43m \u001b[49m\u001b[43mincreibleKey\u001b[49m\u001b[43m)\u001b[49m\n\u001b[0;32m      8\u001b[0m show_image(increible_decrypted)\n",
      "File \u001b[1;32mc:\\Users\\rjmom\\OneDrive\\Documentos\\GitHub\\Cifrado-Informacion\\cifrados\\block2.py:32\u001b[0m, in \u001b[0;36mecb_decrypt\u001b[1;34m(input_image_path, output_image_path, key)\u001b[0m\n\u001b[0;32m     29\u001b[0m     encrypted_data \u001b[38;5;241m=\u001b[39m f\u001b[38;5;241m.\u001b[39mread()\n\u001b[0;32m     31\u001b[0m cipher \u001b[38;5;241m=\u001b[39m AES\u001b[38;5;241m.\u001b[39mnew(key, AES\u001b[38;5;241m.\u001b[39mMODE_ECB)\n\u001b[1;32m---> 32\u001b[0m decrypted_data \u001b[38;5;241m=\u001b[39m unpad(\u001b[43mcipher\u001b[49m\u001b[38;5;241;43m.\u001b[39;49m\u001b[43mdecrypt\u001b[49m\u001b[43m(\u001b[49m\u001b[43mencrypted_data\u001b[49m\u001b[43m)\u001b[49m, AES\u001b[38;5;241m.\u001b[39mblock_size)\n\u001b[0;32m     33\u001b[0m decrypted_data \u001b[38;5;241m=\u001b[39m decrypted_data[:original_size]  \u001b[38;5;66;03m# Trim to original size\u001b[39;00m\n\u001b[0;32m     35\u001b[0m \u001b[38;5;28;01mwith\u001b[39;00m Image\u001b[38;5;241m.\u001b[39mfrombytes(\u001b[38;5;124m'\u001b[39m\u001b[38;5;124mRGB\u001b[39m\u001b[38;5;124m'\u001b[39m, (width, height), decrypted_data) \u001b[38;5;28;01mas\u001b[39;00m im_ecb:\n",
      "File \u001b[1;32mc:\\Users\\rjmom\\AppData\\Local\\Programs\\Python\\Python312\\Lib\\site-packages\\Crypto\\Cipher\\_mode_ecb.py:196\u001b[0m, in \u001b[0;36mEcbMode.decrypt\u001b[1;34m(self, ciphertext, output)\u001b[0m\n\u001b[0;32m    194\u001b[0m \u001b[38;5;28;01mif\u001b[39;00m result:\n\u001b[0;32m    195\u001b[0m     \u001b[38;5;28;01mif\u001b[39;00m result \u001b[38;5;241m==\u001b[39m \u001b[38;5;241m3\u001b[39m:\n\u001b[1;32m--> 196\u001b[0m         \u001b[38;5;28;01mraise\u001b[39;00m \u001b[38;5;167;01mValueError\u001b[39;00m(\u001b[38;5;124m\"\u001b[39m\u001b[38;5;124mData must be aligned to block boundary in ECB mode\u001b[39m\u001b[38;5;124m\"\u001b[39m)\n\u001b[0;32m    197\u001b[0m     \u001b[38;5;28;01mraise\u001b[39;00m \u001b[38;5;167;01mValueError\u001b[39;00m(\u001b[38;5;124m\"\u001b[39m\u001b[38;5;124mError \u001b[39m\u001b[38;5;132;01m%d\u001b[39;00m\u001b[38;5;124m while decrypting in ECB mode\u001b[39m\u001b[38;5;124m\"\u001b[39m \u001b[38;5;241m%\u001b[39m result)\n\u001b[0;32m    199\u001b[0m \u001b[38;5;28;01mif\u001b[39;00m output \u001b[38;5;129;01mis\u001b[39;00m \u001b[38;5;28;01mNone\u001b[39;00m:\n",
      "\u001b[1;31mValueError\u001b[0m: Data must be aligned to block boundary in ECB mode"
     ]
    }
   ],
   "source": [
    "with open('./keys/mr-increible.key', 'rb') as f:\n",
    "    increibleKey = f.read()\n",
    "\n",
    "increibleImg = './images/mr-increible_encrypted_image.jpeg'\n",
    "increible_decrypted = './images/mr-increible_decrypted_image.jpeg'\n",
    "\n",
    "ecb_decrypt(increibleImg, increible_decrypted, increibleKey)\n",
    "show_image(increible_decrypted)"
   ]
  }
 ],
 "metadata": {
  "kernelspec": {
   "display_name": "Python 3",
   "language": "python",
   "name": "python3"
  },
  "language_info": {
   "codemirror_mode": {
    "name": "ipython",
    "version": 3
   },
   "file_extension": ".py",
   "mimetype": "text/x-python",
   "name": "python",
   "nbconvert_exporter": "python",
   "pygments_lexer": "ipython3",
   "version": "3.12.1"
  }
 },
 "nbformat": 4,
 "nbformat_minor": 2
}
